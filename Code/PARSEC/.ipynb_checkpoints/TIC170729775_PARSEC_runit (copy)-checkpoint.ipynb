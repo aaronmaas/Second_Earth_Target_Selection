{
 "cells": [
  {
   "cell_type": "code",
   "execution_count": 1,
   "id": "cf1796df",
   "metadata": {},
   "outputs": [],
   "source": [
    "import numpy as np\n",
    "import parsec_py3_rp_dr3 as parsec\n",
    "\n"
   ]
  },
  {
   "cell_type": "code",
   "execution_count": null,
   "id": "2ca87a21",
   "metadata": {
    "scrolled": false
   },
   "outputs": [
    {
     "name": "stdout",
     "output_type": "stream",
     "text": [
      "\n",
      "\tTIC170729775\n",
      "\n",
      "\tTeff [K]: 6231.0 +/- 100.0\n",
      "\t[Fe/H]: -0.04 +/- 0.05\n",
      "\n",
      "\n",
      "\tGmag: 10.295685768127441 +/- 0.002009905260166405\n",
      "\tBPmag: 10.583751678466797 +/- 0.005006747570862977\n",
      "\tRPmag: 9.845172882080078 +/- 0.0030133511148437197\n",
      "\tJmag: 9.406999588012695 +/- 0.026000000536441803\n",
      "\tHmag: 9.14900016784668 +/- 0.027000000700354576\n",
      "\tKmag: 9.072999954223633 +/- 0.02500000037252903\n",
      "\n",
      "\t D [pc] =  153.06445599079086  +/-  0.43373691853856033\n"
     ]
    },
    {
     "name": "stderr",
     "output_type": "stream",
     "text": [
      "  0%|                                                  | 0/5000 [00:00<?, ?it/s]/home/aaron/anaconda3_new/lib/python3.9/site-packages/emcee/moves/red_blue.py:99: RuntimeWarning: invalid value encountered in double_scalars\n",
      "  lnpdiff = f + nlp - state.log_prob[j]\n",
      " 54%|████████████████████▉                  | 2677/5000 [01:12<01:06, 34.97it/s]"
     ]
    }
   ],
   "source": [
    "parsec.runit(\"TIC170729775\", stepnumber=5000)"
   ]
  },
  {
   "cell_type": "markdown",
   "id": "4d63b46b",
   "metadata": {},
   "source": [
    "Looks reasonable. The star is at the very low Mass end of the PARSEC isochrones. "
   ]
  },
  {
   "cell_type": "code",
   "execution_count": null,
   "id": "92869e8a",
   "metadata": {},
   "outputs": [],
   "source": []
  }
 ],
 "metadata": {
  "kernelspec": {
   "display_name": "Python 3 (ipykernel)",
   "language": "python",
   "name": "python3"
  },
  "language_info": {
   "codemirror_mode": {
    "name": "ipython",
    "version": 3
   },
   "file_extension": ".py",
   "mimetype": "text/x-python",
   "name": "python",
   "nbconvert_exporter": "python",
   "pygments_lexer": "ipython3",
   "version": "3.9.13"
  }
 },
 "nbformat": 4,
 "nbformat_minor": 5
}
