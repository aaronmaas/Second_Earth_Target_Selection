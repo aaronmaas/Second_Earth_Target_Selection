{
 "cells": [
  {
   "cell_type": "markdown",
   "id": "c5b7f098",
   "metadata": {},
   "source": [
    "# Analysis of GJ666 Spectra"
   ]
  },
  {
   "cell_type": "markdown",
   "id": "26cdd137",
   "metadata": {},
   "source": [
    "## Cleaning and Plotting data"
   ]
  },
  {
   "cell_type": "markdown",
   "id": "3a29acbb",
   "metadata": {},
   "source": [
    "In this step, we will plot all available data for the Star and also look at the Lomb Scargle Periodogram to identfy possible RV signals due to planets, companions stars or mag activity. Before this is done the blaze function is fitted to the original blaze uncorrected spectra. Please check if the provided targetname and spectra directory are correct."
   ]
  },
  {
   "cell_type": "code",
   "execution_count": 1,
   "id": "75d360a6",
   "metadata": {},
   "outputs": [],
   "source": [
    "star_name = 'GJ666'\n",
    "directory_name = '/home/aaron/Desktop/ZASPE/Spectra/GJ666'"
   ]
  },
  {
   "cell_type": "markdown",
   "id": "07e0952b",
   "metadata": {},
   "source": [
    "## Calculate wavelength calibration from Polynomials"
   ]
  },
  {
   "cell_type": "code",
   "execution_count": 2,
   "id": "1345d880",
   "metadata": {},
   "outputs": [
    {
     "name": "stdout",
     "output_type": "stream",
     "text": [
      "Shape of wavelengths array: (82, 72, 4096)\n"
     ]
    }
   ],
   "source": [
    "     \n",
    "from funcs import collect_fits_files, separate_fits_files\n",
    "    \n",
    "fits_files = collect_fits_files(directory_name,extension=\"A.fits\")\n",
    "fits_files, ccf_files = separate_fits_files(fits_files)\n",
    "    \n",
    "from funcs import calculate_wavelengths \n",
    "\n",
    "wavelengths = calculate_wavelengths(fits_files, directory_name)\n",
    "observed_wavelengths = wavelengths     \n",
    "    "
   ]
  },
  {
   "cell_type": "markdown",
   "id": "d3bd4299",
   "metadata": {},
   "source": [
    "### Apply the blaze correction by fitting a Polynomial to Blaze Uncorrected Spectra"
   ]
  },
  {
   "cell_type": "code",
   "execution_count": 3,
   "id": "7a1508dc",
   "metadata": {},
   "outputs": [
    {
     "data": {
      "application/vnd.jupyter.widget-view+json": {
       "model_id": "24b92c46f7aa4a1b88e124faf8d352bb",
       "version_major": 2,
       "version_minor": 0
      },
      "text/plain": [
       "  0%|          | 0/82 [00:00<?, ?it/s]"
      ]
     },
     "metadata": {},
     "output_type": "display_data"
    },
    {
     "name": "stderr",
     "output_type": "stream",
     "text": [
      "WARNING: VerifyWarning: Keyword name 'SPEC_NAME' is greater than 8 characters or contains characters not allowed by the FITS standard; a HIERARCH card will be created. [astropy.io.fits.card]\n",
      "WARNING: VerifyWarning: Keyword name 'NUM_ORDERS' is greater than 8 characters or contains characters not allowed by the FITS standard; a HIERARCH card will be created. [astropy.io.fits.card]\n"
     ]
    },
    {
     "name": "stdout",
     "output_type": "stream",
     "text": [
      "Skipping /home/aaron/Desktop/ZASPE/Spectra/GJ666/HARPS.2004-02-04T09:34:04.703_e2ds_A.fits: Required header(s) not found.\n",
      "Skipping /home/aaron/Desktop/ZASPE/Spectra/GJ666/HARPS.2004-02-04T09:37:36.245_e2ds_A.fits: Required header(s) not found.\n",
      "Skipping /home/aaron/Desktop/ZASPE/Spectra/GJ666/HARPS.2004-02-04T09:41:08.038_e2ds_A.fits: Required header(s) not found.\n",
      "\n",
      "Intel MKL ERROR: Parameter 6 was incorrect on entry to DGELSD.\n"
     ]
    },
    {
     "ename": "LinAlgError",
     "evalue": "SVD did not converge in Linear Least Squares",
     "output_type": "error",
     "traceback": [
      "\u001b[0;31m---------------------------------------------------------------------------\u001b[0m",
      "\u001b[0;31mLinAlgError\u001b[0m                               Traceback (most recent call last)",
      "\u001b[0;32m/tmp/ipykernel_18118/738075265.py\u001b[0m in \u001b[0;36m<module>\u001b[0;34m\u001b[0m\n\u001b[1;32m      1\u001b[0m \u001b[0;32mfrom\u001b[0m \u001b[0mfuncs\u001b[0m \u001b[0;32mimport\u001b[0m \u001b[0mapply_blaze_correction\u001b[0m\u001b[0;34m\u001b[0m\u001b[0;34m\u001b[0m\u001b[0m\n\u001b[1;32m      2\u001b[0m \u001b[0;34m\u001b[0m\u001b[0m\n\u001b[0;32m----> 3\u001b[0;31m \u001b[0mdiscarded_nights\u001b[0m \u001b[0;34m=\u001b[0m \u001b[0mapply_blaze_correction\u001b[0m\u001b[0;34m(\u001b[0m\u001b[0mobserved_wavelengths\u001b[0m\u001b[0;34m,\u001b[0m\u001b[0mfits_files\u001b[0m\u001b[0;34m,\u001b[0m\u001b[0mccf_files\u001b[0m\u001b[0;34m,\u001b[0m\u001b[0mdirectory_name\u001b[0m\u001b[0;34m)\u001b[0m\u001b[0;34m\u001b[0m\u001b[0;34m\u001b[0m\u001b[0m\n\u001b[0m",
      "\u001b[0;32m~/Desktop/Second_Earth_Target_Selection/Code/ZASPE/funcs/Functions_spectra.py\u001b[0m in \u001b[0;36mapply_blaze_correction\u001b[0;34m(observed_wavelengths, fits_files, ccf_files, output_directory, progress)\u001b[0m\n\u001b[1;32m    152\u001b[0m                 \u001b[0mnorm_spec\u001b[0m \u001b[0;34m=\u001b[0m \u001b[0mspec\u001b[0m \u001b[0;34m/\u001b[0m \u001b[0mnp\u001b[0m\u001b[0;34m.\u001b[0m\u001b[0mmedian\u001b[0m\u001b[0;34m(\u001b[0m\u001b[0mspec\u001b[0m\u001b[0;34m)\u001b[0m\u001b[0;34m\u001b[0m\u001b[0;34m\u001b[0m\u001b[0m\n\u001b[1;32m    153\u001b[0m                 \u001b[0mmaxrms\u001b[0m \u001b[0;34m=\u001b[0m \u001b[0;36m0.01\u001b[0m\u001b[0;34m\u001b[0m\u001b[0;34m\u001b[0m\u001b[0m\n\u001b[0;32m--> 154\u001b[0;31m                 \u001b[0mz\u001b[0m \u001b[0;34m=\u001b[0m \u001b[0mblazeFit\u001b[0m\u001b[0;34m(\u001b[0m\u001b[0mwav\u001b[0m\u001b[0;34m[\u001b[0m\u001b[0mnight\u001b[0m\u001b[0;34m,\u001b[0m \u001b[0morder\u001b[0m\u001b[0;34m]\u001b[0m\u001b[0;34m,\u001b[0m \u001b[0mnorm_spec\u001b[0m\u001b[0;34m,\u001b[0m \u001b[0mmaxrms\u001b[0m\u001b[0;34m,\u001b[0m \u001b[0mnumcalls\u001b[0m\u001b[0;34m=\u001b[0m\u001b[0;36m5\u001b[0m\u001b[0;34m)\u001b[0m\u001b[0;34m\u001b[0m\u001b[0;34m\u001b[0m\u001b[0m\n\u001b[0m\u001b[1;32m    155\u001b[0m \u001b[0;34m\u001b[0m\u001b[0m\n\u001b[1;32m    156\u001b[0m                 \u001b[0mwave\u001b[0m \u001b[0;34m=\u001b[0m \u001b[0mwav\u001b[0m\u001b[0;34m[\u001b[0m\u001b[0mnight\u001b[0m\u001b[0;34m,\u001b[0m \u001b[0morder\u001b[0m\u001b[0;34m]\u001b[0m\u001b[0;34m\u001b[0m\u001b[0;34m\u001b[0m\u001b[0m\n",
      "\u001b[0;32m~/Desktop/Second_Earth_Target_Selection/Code/ZASPE/pyutil/pyutil/blazeFit.py\u001b[0m in \u001b[0;36mblazeFit\u001b[0;34m(wav, spec, maxrms, numcalls, curcall, verbose, showplot)\u001b[0m\n\u001b[1;32m     57\u001b[0m \u001b[0;34m\u001b[0m\u001b[0m\n\u001b[1;32m     58\u001b[0m     \u001b[0;31m#fit a polynomial to the data:\u001b[0m\u001b[0;34m\u001b[0m\u001b[0;34m\u001b[0m\u001b[0m\n\u001b[0;32m---> 59\u001b[0;31m     \u001b[0mz\u001b[0m \u001b[0;34m=\u001b[0m \u001b[0mnp\u001b[0m\u001b[0;34m.\u001b[0m\u001b[0mpolyfit\u001b[0m\u001b[0;34m(\u001b[0m\u001b[0mwavcent\u001b[0m\u001b[0;34m,\u001b[0m \u001b[0mnormspec\u001b[0m\u001b[0;34m,\u001b[0m \u001b[0;36m7\u001b[0m\u001b[0;34m)\u001b[0m\u001b[0;34m\u001b[0m\u001b[0;34m\u001b[0m\u001b[0m\n\u001b[0m\u001b[1;32m     60\u001b[0m \u001b[0;34m\u001b[0m\u001b[0m\n\u001b[1;32m     61\u001b[0m     \u001b[0;31m#make a function based on those polynomial coefficients:\u001b[0m\u001b[0;34m\u001b[0m\u001b[0;34m\u001b[0m\u001b[0m\n",
      "\u001b[0;32m<__array_function__ internals>\u001b[0m in \u001b[0;36mpolyfit\u001b[0;34m(*args, **kwargs)\u001b[0m\n",
      "\u001b[0;32m~/anaconda3_new/lib/python3.9/site-packages/numpy/lib/polynomial.py\u001b[0m in \u001b[0;36mpolyfit\u001b[0;34m(x, y, deg, rcond, full, w, cov)\u001b[0m\n\u001b[1;32m    658\u001b[0m     \u001b[0mscale\u001b[0m \u001b[0;34m=\u001b[0m \u001b[0mNX\u001b[0m\u001b[0;34m.\u001b[0m\u001b[0msqrt\u001b[0m\u001b[0;34m(\u001b[0m\u001b[0;34m(\u001b[0m\u001b[0mlhs\u001b[0m\u001b[0;34m*\u001b[0m\u001b[0mlhs\u001b[0m\u001b[0;34m)\u001b[0m\u001b[0;34m.\u001b[0m\u001b[0msum\u001b[0m\u001b[0;34m(\u001b[0m\u001b[0maxis\u001b[0m\u001b[0;34m=\u001b[0m\u001b[0;36m0\u001b[0m\u001b[0;34m)\u001b[0m\u001b[0;34m)\u001b[0m\u001b[0;34m\u001b[0m\u001b[0;34m\u001b[0m\u001b[0m\n\u001b[1;32m    659\u001b[0m     \u001b[0mlhs\u001b[0m \u001b[0;34m/=\u001b[0m \u001b[0mscale\u001b[0m\u001b[0;34m\u001b[0m\u001b[0;34m\u001b[0m\u001b[0m\n\u001b[0;32m--> 660\u001b[0;31m     \u001b[0mc\u001b[0m\u001b[0;34m,\u001b[0m \u001b[0mresids\u001b[0m\u001b[0;34m,\u001b[0m \u001b[0mrank\u001b[0m\u001b[0;34m,\u001b[0m \u001b[0ms\u001b[0m \u001b[0;34m=\u001b[0m \u001b[0mlstsq\u001b[0m\u001b[0;34m(\u001b[0m\u001b[0mlhs\u001b[0m\u001b[0;34m,\u001b[0m \u001b[0mrhs\u001b[0m\u001b[0;34m,\u001b[0m \u001b[0mrcond\u001b[0m\u001b[0;34m)\u001b[0m\u001b[0;34m\u001b[0m\u001b[0;34m\u001b[0m\u001b[0m\n\u001b[0m\u001b[1;32m    661\u001b[0m     \u001b[0mc\u001b[0m \u001b[0;34m=\u001b[0m \u001b[0;34m(\u001b[0m\u001b[0mc\u001b[0m\u001b[0;34m.\u001b[0m\u001b[0mT\u001b[0m\u001b[0;34m/\u001b[0m\u001b[0mscale\u001b[0m\u001b[0;34m)\u001b[0m\u001b[0;34m.\u001b[0m\u001b[0mT\u001b[0m  \u001b[0;31m# broadcast scale coefficients\u001b[0m\u001b[0;34m\u001b[0m\u001b[0;34m\u001b[0m\u001b[0m\n\u001b[1;32m    662\u001b[0m \u001b[0;34m\u001b[0m\u001b[0m\n",
      "\u001b[0;32m<__array_function__ internals>\u001b[0m in \u001b[0;36mlstsq\u001b[0;34m(*args, **kwargs)\u001b[0m\n",
      "\u001b[0;32m~/anaconda3_new/lib/python3.9/site-packages/numpy/linalg/linalg.py\u001b[0m in \u001b[0;36mlstsq\u001b[0;34m(a, b, rcond)\u001b[0m\n\u001b[1;32m   2304\u001b[0m         \u001b[0;31m# lapack can't handle n_rhs = 0 - so allocate the array one larger in that axis\u001b[0m\u001b[0;34m\u001b[0m\u001b[0;34m\u001b[0m\u001b[0m\n\u001b[1;32m   2305\u001b[0m         \u001b[0mb\u001b[0m \u001b[0;34m=\u001b[0m \u001b[0mzeros\u001b[0m\u001b[0;34m(\u001b[0m\u001b[0mb\u001b[0m\u001b[0;34m.\u001b[0m\u001b[0mshape\u001b[0m\u001b[0;34m[\u001b[0m\u001b[0;34m:\u001b[0m\u001b[0;34m-\u001b[0m\u001b[0;36m2\u001b[0m\u001b[0;34m]\u001b[0m \u001b[0;34m+\u001b[0m \u001b[0;34m(\u001b[0m\u001b[0mm\u001b[0m\u001b[0;34m,\u001b[0m \u001b[0mn_rhs\u001b[0m \u001b[0;34m+\u001b[0m \u001b[0;36m1\u001b[0m\u001b[0;34m)\u001b[0m\u001b[0;34m,\u001b[0m \u001b[0mdtype\u001b[0m\u001b[0;34m=\u001b[0m\u001b[0mb\u001b[0m\u001b[0;34m.\u001b[0m\u001b[0mdtype\u001b[0m\u001b[0;34m)\u001b[0m\u001b[0;34m\u001b[0m\u001b[0;34m\u001b[0m\u001b[0m\n\u001b[0;32m-> 2306\u001b[0;31m     \u001b[0mx\u001b[0m\u001b[0;34m,\u001b[0m \u001b[0mresids\u001b[0m\u001b[0;34m,\u001b[0m \u001b[0mrank\u001b[0m\u001b[0;34m,\u001b[0m \u001b[0ms\u001b[0m \u001b[0;34m=\u001b[0m \u001b[0mgufunc\u001b[0m\u001b[0;34m(\u001b[0m\u001b[0ma\u001b[0m\u001b[0;34m,\u001b[0m \u001b[0mb\u001b[0m\u001b[0;34m,\u001b[0m \u001b[0mrcond\u001b[0m\u001b[0;34m,\u001b[0m \u001b[0msignature\u001b[0m\u001b[0;34m=\u001b[0m\u001b[0msignature\u001b[0m\u001b[0;34m,\u001b[0m \u001b[0mextobj\u001b[0m\u001b[0;34m=\u001b[0m\u001b[0mextobj\u001b[0m\u001b[0;34m)\u001b[0m\u001b[0;34m\u001b[0m\u001b[0;34m\u001b[0m\u001b[0m\n\u001b[0m\u001b[1;32m   2307\u001b[0m     \u001b[0;32mif\u001b[0m \u001b[0mm\u001b[0m \u001b[0;34m==\u001b[0m \u001b[0;36m0\u001b[0m\u001b[0;34m:\u001b[0m\u001b[0;34m\u001b[0m\u001b[0;34m\u001b[0m\u001b[0m\n\u001b[1;32m   2308\u001b[0m         \u001b[0mx\u001b[0m\u001b[0;34m[\u001b[0m\u001b[0;34m...\u001b[0m\u001b[0;34m]\u001b[0m \u001b[0;34m=\u001b[0m \u001b[0;36m0\u001b[0m\u001b[0;34m\u001b[0m\u001b[0;34m\u001b[0m\u001b[0m\n",
      "\u001b[0;32m~/anaconda3_new/lib/python3.9/site-packages/numpy/linalg/linalg.py\u001b[0m in \u001b[0;36m_raise_linalgerror_lstsq\u001b[0;34m(err, flag)\u001b[0m\n\u001b[1;32m     98\u001b[0m \u001b[0;34m\u001b[0m\u001b[0m\n\u001b[1;32m     99\u001b[0m \u001b[0;32mdef\u001b[0m \u001b[0m_raise_linalgerror_lstsq\u001b[0m\u001b[0;34m(\u001b[0m\u001b[0merr\u001b[0m\u001b[0;34m,\u001b[0m \u001b[0mflag\u001b[0m\u001b[0;34m)\u001b[0m\u001b[0;34m:\u001b[0m\u001b[0;34m\u001b[0m\u001b[0;34m\u001b[0m\u001b[0m\n\u001b[0;32m--> 100\u001b[0;31m     \u001b[0;32mraise\u001b[0m \u001b[0mLinAlgError\u001b[0m\u001b[0;34m(\u001b[0m\u001b[0;34m\"SVD did not converge in Linear Least Squares\"\u001b[0m\u001b[0;34m)\u001b[0m\u001b[0;34m\u001b[0m\u001b[0;34m\u001b[0m\u001b[0m\n\u001b[0m\u001b[1;32m    101\u001b[0m \u001b[0;34m\u001b[0m\u001b[0m\n\u001b[1;32m    102\u001b[0m \u001b[0;32mdef\u001b[0m \u001b[0mget_linalg_error_extobj\u001b[0m\u001b[0;34m(\u001b[0m\u001b[0mcallback\u001b[0m\u001b[0;34m)\u001b[0m\u001b[0;34m:\u001b[0m\u001b[0;34m\u001b[0m\u001b[0;34m\u001b[0m\u001b[0m\n",
      "\u001b[0;31mLinAlgError\u001b[0m: SVD did not converge in Linear Least Squares"
     ]
    }
   ],
   "source": [
    "   \n",
    "from funcs import apply_blaze_correction\n",
    "\n",
    "discarded_nights = apply_blaze_correction(observed_wavelengths,fits_files,ccf_files,directory_name)"
   ]
  },
  {
   "cell_type": "code",
   "execution_count": null,
   "id": "712563a5",
   "metadata": {},
   "outputs": [],
   "source": [
    "\n",
    "#remove nights to be discarded\n",
    "import numpy as np\n",
    "if len(discarded_nights) != 0:\n",
    "    wavelenghts = np.delete(wavelengths,discarded_nights,axis = 0)\n",
    "    fits_files = [fits_file for i, fits_file in enumerate(fits_files) if i not in discarded_nights]\n",
    "    ccf_files = [ccf_file for i, ccf_file in enumerate(ccf_files) if i not in discarded_nights]  \n",
    "    \n",
    "    \n",
    "#collect all fits files in the given directory\n",
    "fits_files = collect_fits_files(directory_name, extension = 'blaze_correction.fits')\n",
    "    "
   ]
  },
  {
   "cell_type": "markdown",
   "id": "9b21ef24",
   "metadata": {},
   "source": [
    "### Plot the blaze corrected spectra"
   ]
  },
  {
   "cell_type": "markdown",
   "id": "31de78f9",
   "metadata": {},
   "source": [
    "The the step takes long due to extensive plotting. The .png files are stored in Plots/star_name_observer_night.png. The star name is obtained from simbad. Default is Gliese catalog, if not available it will use Henry Draper and otherwise Tess Input. \\ You do not have to run the next 2 cells as it takes long. However, if you are interested in how the spectra look, you might want to take a peak."
   ]
  },
  {
   "cell_type": "code",
   "execution_count": null,
   "id": "4673b55e",
   "metadata": {},
   "outputs": [],
   "source": [
    "\n",
    "from funcs import plot_arrays, query_tic_name,query_gliese_name,query_HD_name, extract_target_info, extract_target_info_astropy\n",
    "import matplotlib.pyplot as plt\n",
    "from astropy.io import fits \n",
    "from tqdm.notebook import tqdm\n",
    "from time import sleep\n",
    "import re\n",
    "\n",
    "for i in tqdm(range(len(fits_files))): \n",
    "    spectrum = fits.getdata(fits_files[i])\n",
    "    flux = spectrum[3,:] #CERES pipeline blaze corrected flux\n",
    "    wavelength = spectrum[0,:]\n",
    "    string = fits_files[i] \n",
    "    cut_string = string.split(\"/\")[-1][:38] + \".png\"\n",
    "    \n",
    "    target_name, observed_night = extract_target_info_astropy(fits_files[i])\n",
    "    t1 = target_name \n",
    "    if target_name.startswith(\"GJ\") == False:\n",
    "        target_name = query_gliese_name(target_name)    #try to get gliese id\n",
    "    if target_name == \"Unknown\":\n",
    "        target_name = query_HD_name(t1)   #try to get HD id\n",
    "    if target_name == \"Unknown\":\n",
    "        target_name = query_tic_name(t1) # try to get TIC id\n",
    "      \n",
    "      \n",
    "    #make sure there is no whitespaces in the target_name\n",
    "    pattern = re.compile(r'\\s+')\n",
    "    target_name = re.sub(pattern, '', target_name)\n",
    "    \n",
    "    file_name = target_name + observed_night + \".png\"\n",
    "    save_dir = \"Plots/\" + target_name\n",
    "    \n",
    "    plot_arrays(flux,wavelength,save_dir=save_dir, save_filename=file_name)\n",
    "    \n",
    "    sleep(3)"
   ]
  },
  {
   "cell_type": "code",
   "execution_count": null,
   "id": "5bd75a81",
   "metadata": {},
   "outputs": [],
   "source": [
    "\n",
    "#example plot\n",
    "#add the file you intend to show\n",
    "example_file = save_dir + \"/\" + file_name\n",
    "from IPython.display import display, Image\n",
    "display(Image(filename=example_file))"
   ]
  },
  {
   "cell_type": "markdown",
   "id": "a94a88df",
   "metadata": {},
   "source": [
    "### RV Analyis"
   ]
  },
  {
   "cell_type": "code",
   "execution_count": null,
   "id": "86cc59f8",
   "metadata": {},
   "outputs": [],
   "source": [
    "\n",
    "from funcs import get_RV_BJD\n",
    "#obtain RV, RV uncertainty and BJD from the CCFs \n",
    "rv, rv_err, bjd = get_RV_BJD(ccf_files)"
   ]
  },
  {
   "cell_type": "code",
   "execution_count": null,
   "id": "f56401a6",
   "metadata": {},
   "outputs": [],
   "source": [
    "\n",
    "#plotting the RV variation\n",
    "from funcs import plot_rvs\n",
    "\n",
    "save_dir = 'Plots/' + star_name \n",
    "file_name = star_name + \"_RV_variation.png\"\n",
    "plot_rvs(rv,rv_err/1000, bjd,save_dir, file_name) "
   ]
  },
  {
   "cell_type": "code",
   "execution_count": null,
   "id": "0672b5db",
   "metadata": {},
   "outputs": [],
   "source": [
    "\n",
    "#plotting the LS Periodogram\n",
    "from funcs import plot_lomb_scargle\n",
    "\n",
    "file_name = star_name + \"_Lomb_Scargle.png\"\n",
    "plot_lomb_scargle(bjd, rv, rv_err/1000, save_dir= save_dir, save_filename=file_name)"
   ]
  },
  {
   "cell_type": "markdown",
   "id": "18bb1fa5",
   "metadata": {},
   "source": [
    "## Combine and Align Spectra"
   ]
  },
  {
   "cell_type": "markdown",
   "id": "234fc0a6",
   "metadata": {},
   "source": [
    "In this step, we will combine and align all available spectra in the same time frame while removing artifacts that we dont want to have in the combined spectra, like saturation or cosmic rays. We will use two methods to combine the spectra - RV - correction method and Cross-Correlation Method."
   ]
  },
  {
   "cell_type": "markdown",
   "id": "8a906a74",
   "metadata": {},
   "source": [
    "### RV correction method"
   ]
  },
  {
   "cell_type": "markdown",
   "id": "edce4a76",
   "metadata": {},
   "source": [
    "The RV correction is performed using the measured RVs by Harps. The wavelengths are then corrected for RV shift due to different time frames and moved to the first obervation night."
   ]
  },
  {
   "cell_type": "code",
   "execution_count": null,
   "id": "b6a9e857",
   "metadata": {},
   "outputs": [],
   "source": [
    "  \n",
    "import scipy.constants as c\n",
    "\n",
    "c_km = c.c/1000 \n",
    "    \n",
    "    \n",
    "%matplotlib notebook\n",
    "from funcs import plot_fluxes, plot_median_spectrum, interpolate_flux, get_wavelength_flux_RV, save_spectrum_as_text \n",
    "\n",
    "#get fit files\n",
    "filelist = fits_files\n",
    "\n",
    "#get observed wavelength, flux and eflux; extract RV and calculate corrected wavelength\n",
    "wave, flux, eflux, RV, BERV, wave_corr, combined_orders = get_wavelength_flux_RV(filelist, ceres = False)\n",
    "\n",
    "#get reference wavelength from first observation night \n",
    "wave_ref_corr = wave[0] / (1 + RV[0] / c_km) \n",
    "\n",
    "#interpolate flux at corrected wavelength and on the corrected wavelegnths reference\n",
    "flux_interp = interpolate_flux(wave, flux, wave_ref_corr, RV, BERV)\n",
    "\n",
    "#median flux for specific order\n",
    "flux_median = np.median(flux_interp, axis=0)\n",
    "\n",
    "#controll plots for specific order\n",
    "norder = 35 \n",
    "plot_fluxes(wave_corr, flux, norder) \n",
    "plot_median_spectrum(wave_ref_corr, flux_median+3000, norder)   \n",
    "\n",
    "#save the spectrum as txt file for ZASPE\n",
    "save_directory = \"Spectra/\" + star_name + \"/\" + star_name + \"_RV_method.txt\" \n",
    "save_spectrum_as_text(combined_orders, wave_ref_corr, flux_median, save_directory)\n",
    "    "
   ]
  },
  {
   "cell_type": "markdown",
   "id": "cb4bc757",
   "metadata": {},
   "source": [
    "### Cross-correlation method"
   ]
  },
  {
   "cell_type": "markdown",
   "id": "cd16c3ca",
   "metadata": {},
   "source": [
    "The cross-correlation method takes the median flux from the RV method as star templat to correlate with. It then performes combines and alignes the spectra via cross correlation to the reference template. At the moment there are some issus with the cc method why using only RV method is recommended. In principle should the RV method result in the most accurate shift to the assigned reference spectrum."
   ]
  },
  {
   "cell_type": "code",
   "execution_count": null,
   "id": "476cea25",
   "metadata": {},
   "outputs": [],
   "source": [
    "    \n",
    "from funcs import align_spectra\n",
    "from funcs import combine_spectra\n",
    "from astropy.io import fits \n",
    "import matplotlib.pyplot as plt\n",
    "\n",
    "num_orders = np.shape(fits.getdata(fits_files[0]))[1]\n",
    "\n",
    "#template is the RV corrected version\n",
    "template = flux_median \n",
    "\n",
    "#Specify the spectral order to combine\n",
    "combined_spectra = []\n",
    "for i in range(num_orders):\n",
    "    combined_spectrum = combine_spectra(fits_files, i, template, blaze_corrected=True)\n",
    "    combined_spectra.append(np.array(combined_spectrum))\n",
    "\n",
    "combined_spectra = np.array(combined_spectra)\n",
    "\n",
    "#get wavelength for plotting\n",
    "spectrum = fits.getdata(fits_files[0])\n",
    "flux = spectrum[1,:]\n",
    "wavelength = spectrum[0,:]\n",
    "blaze_corrected_flux = spectrum[3,:]"
   ]
  },
  {
   "cell_type": "code",
   "execution_count": null,
   "id": "5dfa217b",
   "metadata": {},
   "outputs": [],
   "source": [
    "\n",
    "%matplotlib notebook \n",
    "\n",
    "import matplotlib.pyplot as plt \n",
    "plt.xlabel(r\"Wavelength $[A]$\")\n",
    "plt.ylabel(r\"Flux\")\n",
    "for i in range(len(wavelength)):\n",
    "    plt.plot(wavelength[i], combined_spectra[:,2][i])\n"
   ]
  },
  {
   "cell_type": "code",
   "execution_count": null,
   "id": "f3a25fb9",
   "metadata": {},
   "outputs": [],
   "source": [
    "\n",
    "    \n",
    "from funcs import store_spectrum_orders\n",
    "save_dir = \"Spectra/\" + star_name + \"/\"\n",
    "\n",
    "#Cross correlation method    \n",
    "file_name = star_name + \"_CCM\" + \".txt\"\n",
    "\n",
    "store_spectrum_orders(combined_spectra[:,1],combined_spectra[:,2], save_dir = save_dir, file_name = file_name )"
   ]
  }
 ],
 "metadata": {
  "kernelspec": {
   "display_name": "Python 3 (ipykernel)",
   "language": "python",
   "name": "python3"
  },
  "language_info": {
   "codemirror_mode": {
    "name": "ipython",
    "version": 3
   },
   "file_extension": ".py",
   "mimetype": "text/x-python",
   "name": "python",
   "nbconvert_exporter": "python",
   "pygments_lexer": "ipython3",
   "version": "3.9.13"
  }
 },
 "nbformat": 4,
 "nbformat_minor": 5
}
