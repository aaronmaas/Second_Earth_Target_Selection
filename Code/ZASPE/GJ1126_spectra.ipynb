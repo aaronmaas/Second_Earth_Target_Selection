{
 "cells": [
  {
   "cell_type": "markdown",
   "id": "9650d8c2",
   "metadata": {},
   "source": [
    "# Analysis of GJ1126 Spectra"
   ]
  },
  {
   "cell_type": "markdown",
   "id": "a8773875",
   "metadata": {},
   "source": [
    "## Cleaning and Plotting data"
   ]
  },
  {
   "cell_type": "markdown",
   "id": "410057cd",
   "metadata": {},
   "source": [
    "In this step, we will plot all available data for the Star and also look at the Lomb Scargle Periodogram to identfy possible RV signals due to planets, companions stars or mag activity. Before this is done the blaze function is fitted to the original blaze uncorrected spectra. Please check if the provided targetname and spectra directory are correct."
   ]
  },
  {
   "cell_type": "code",
   "execution_count": 1,
   "id": "69ccbe39",
   "metadata": {},
   "outputs": [],
   "source": [
    "star_name = 'GJ1126'\n",
    "directory_name = '/home/aaron/Desktop/ZASPE/Spectra/GJ1126'"
   ]
  },
  {
   "cell_type": "markdown",
   "id": "186d7057",
   "metadata": {},
   "source": [
    "## Calculate wavelength calibration from Polynomials"
   ]
  },
  {
   "cell_type": "code",
   "execution_count": 2,
   "id": "b8a6ef25",
   "metadata": {},
   "outputs": [
    {
     "name": "stdout",
     "output_type": "stream",
     "text": [
      "Shape of wavelengths array: (70, 72, 4096)\n"
     ]
    }
   ],
   "source": [
    "     \n",
    "from funcs import collect_fits_files, separate_fits_files\n",
    "    \n",
    "fits_files = collect_fits_files(directory_name,extension=\"A.fits\")\n",
    "fits_files, ccf_files = separate_fits_files(fits_files)\n",
    "    \n",
    "from funcs import calculate_wavelengths \n",
    "\n",
    "wavelengths = calculate_wavelengths(fits_files, directory_name)\n",
    "observed_wavelengths = wavelengths     \n",
    "    "
   ]
  },
  {
   "cell_type": "markdown",
   "id": "fd3b9abf",
   "metadata": {},
   "source": [
    "### Apply the blaze correction by fitting a Polynomial to Blaze Uncorrected Spectra"
   ]
  },
  {
   "cell_type": "code",
   "execution_count": 3,
   "id": "fcdbc7cc",
   "metadata": {},
   "outputs": [
    {
     "data": {
      "application/vnd.jupyter.widget-view+json": {
       "model_id": "dfd561cbc32d479295b76431b72f112c",
       "version_major": 2,
       "version_minor": 0
      },
      "text/plain": [
       "  0%|          | 0/70 [00:00<?, ?it/s]"
      ]
     },
     "metadata": {},
     "output_type": "display_data"
    },
    {
     "name": "stderr",
     "output_type": "stream",
     "text": [
      "WARNING: VerifyWarning: Keyword name 'SPEC_NAME' is greater than 8 characters or contains characters not allowed by the FITS standard; a HIERARCH card will be created. [astropy.io.fits.card]\n",
      "WARNING: VerifyWarning: Keyword name 'NUM_ORDERS' is greater than 8 characters or contains characters not allowed by the FITS standard; a HIERARCH card will be created. [astropy.io.fits.card]\n"
     ]
    }
   ],
   "source": [
    "   \n",
    "from funcs import apply_blaze_correction\n",
    "\n",
    "discarded_nights = apply_blaze_correction(observed_wavelengths,fits_files,ccf_files,directory_name)"
   ]
  },
  {
   "cell_type": "code",
   "execution_count": 4,
   "id": "90228766",
   "metadata": {},
   "outputs": [],
   "source": [
    "\n",
    "#remove nights to be discarded\n",
    "import numpy as np\n",
    "if len(discarded_nights) != 0:\n",
    "    wavelenghts = np.delete(wavelengths,discarded_nights,axis = 0)\n",
    "    fits_files = [fits_file for i, fits_file in enumerate(fits_files) if i not in discarded_nights]\n",
    "    ccf_files = [ccf_file for i, ccf_file in enumerate(ccf_files) if i not in discarded_nights]  \n",
    "    \n",
    "    \n",
    "#collect all fits files in the given directory\n",
    "fits_files = collect_fits_files(directory_name, extension = 'blaze_correction.fits')\n",
    "    "
   ]
  },
  {
   "cell_type": "markdown",
   "id": "3e5466ce",
   "metadata": {},
   "source": [
    "### Plot the blaze corrected spectra"
   ]
  },
  {
   "cell_type": "markdown",
   "id": "f245aec4",
   "metadata": {},
   "source": [
    "The the step takes long due to extensive plotting. The .png files are stored in Plots/star_name_observer_night.png. The star name is obtained from simbad. Default is Gliese catalog, if not available it will use Henry Draper and otherwise Tess Input. \\ You do not have to run the next 2 cells as it takes long. However, if you are interested in how the spectra look, you might want to take a peak."
   ]
  },
  {
   "cell_type": "code",
   "execution_count": null,
   "id": "3ba44f82",
   "metadata": {},
   "outputs": [],
   "source": [
    "\n",
    "from funcs import plot_arrays, query_tic_name,query_gliese_name,query_HD_name, extract_target_info, extract_target_info_astropy\n",
    "import matplotlib.pyplot as plt\n",
    "from astropy.io import fits \n",
    "from tqdm.notebook import tqdm\n",
    "from time import sleep\n",
    "import re\n",
    "\n",
    "for i in tqdm(range(len(fits_files))): \n",
    "    spectrum = fits.getdata(fits_files[i])\n",
    "    flux = spectrum[3,:] #CERES pipeline blaze corrected flux\n",
    "    wavelength = spectrum[0,:]\n",
    "    string = fits_files[i] \n",
    "    cut_string = string.split(\"/\")[-1][:38] + \".png\"\n",
    "    \n",
    "    target_name, observed_night = extract_target_info_astropy(fits_files[i])\n",
    "    t1 = target_name \n",
    "    if target_name.startswith(\"GJ\") == False:\n",
    "        target_name = query_gliese_name(target_name)    #try to get gliese id\n",
    "    if target_name == \"Unknown\":\n",
    "        target_name = query_HD_name(t1)   #try to get HD id\n",
    "    if target_name == \"Unknown\":\n",
    "        target_name = query_tic_name(t1) # try to get TIC id\n",
    "      \n",
    "      \n",
    "    #make sure there is no whitespaces in the target_name\n",
    "    pattern = re.compile(r'\\s+')\n",
    "    target_name = re.sub(pattern, '', target_name)\n",
    "    \n",
    "    file_name = target_name + observed_night + \".png\"\n",
    "    save_dir = \"Plots/\" + target_name\n",
    "    \n",
    "    plot_arrays(flux,wavelength,save_dir=save_dir, save_filename=file_name)\n",
    "    \n",
    "    sleep(3)"
   ]
  },
  {
   "cell_type": "code",
   "execution_count": null,
   "id": "6fd9b0c0",
   "metadata": {},
   "outputs": [],
   "source": [
    "\n",
    "#example plot\n",
    "#add the file you intend to show\n",
    "example_file = save_dir + \"/\" + file_name\n",
    "from IPython.display import display, Image\n",
    "display(Image(filename=example_file))"
   ]
  },
  {
   "cell_type": "markdown",
   "id": "0e31407d",
   "metadata": {},
   "source": [
    "### RV Analyis"
   ]
  },
  {
   "cell_type": "code",
   "execution_count": 5,
   "id": "0283c990",
   "metadata": {},
   "outputs": [],
   "source": [
    "\n",
    "from funcs import get_RV_BJD\n",
    "#obtain RV, RV uncertainty and BJD from the CCFs \n",
    "rv, rv_err, bjd = get_RV_BJD(ccf_files)"
   ]
  },
  {
   "cell_type": "code",
   "execution_count": 6,
   "id": "49953922",
   "metadata": {},
   "outputs": [
    {
     "data": {
      "image/png": "[encoded data removed]",
      "text/plain": [
       "<Figure size 640x480 with 1 Axes>"
      ]
     },
     "metadata": {},
     "output_type": "display_data"
    }
   ],
   "source": [
    "\n",
    "#plotting the RV variation\n",
    "from funcs import plot_rvs\n",
    "\n",
    "save_dir = 'Plots/' + star_name \n",
    "file_name = star_name + \"_RV_variation.png\"\n",
    "plot_rvs(rv,rv_err/1000, bjd,save_dir, file_name) "
   ]
  },
  {
   "cell_type": "code",
   "execution_count": 15,
   "id": "e9658845",
   "metadata": {},
   "outputs": [
    {
     "ename": "TypeError",
     "evalue": "plot_lomb_scargle() got an unexpected keyword argument 'dy'",
     "output_type": "error",
     "traceback": [
      "\u001b[0;31m---------------------------------------------------------------------------\u001b[0m",
      "\u001b[0;31mTypeError\u001b[0m                                 Traceback (most recent call last)",
      "\u001b[0;32m/tmp/ipykernel_20988/666868310.py\u001b[0m in \u001b[0;36m<module>\u001b[0;34m\u001b[0m\n\u001b[1;32m      4\u001b[0m \u001b[0;34m\u001b[0m\u001b[0m\n\u001b[1;32m      5\u001b[0m \u001b[0mfile_name\u001b[0m \u001b[0;34m=\u001b[0m \u001b[0mstar_name\u001b[0m \u001b[0;34m+\u001b[0m \u001b[0;34m\"_Lomb_Scargle.png\"\u001b[0m\u001b[0;34m\u001b[0m\u001b[0;34m\u001b[0m\u001b[0m\n\u001b[0;32m----> 6\u001b[0;31m \u001b[0mplot_lomb_scargle\u001b[0m\u001b[0;34m(\u001b[0m\u001b[0mbjd\u001b[0m\u001b[0;34m,\u001b[0m \u001b[0mrv\u001b[0m\u001b[0;34m,\u001b[0m \u001b[0mdy\u001b[0m\u001b[0;34m=\u001b[0m\u001b[0mrv_err\u001b[0m\u001b[0;34m/\u001b[0m\u001b[0;36m1000\u001b[0m\u001b[0;34m,\u001b[0m \u001b[0msave_dir\u001b[0m\u001b[0;34m=\u001b[0m \u001b[0msave_dir\u001b[0m\u001b[0;34m,\u001b[0m \u001b[0msave_filename\u001b[0m\u001b[0;34m=\u001b[0m\u001b[0mfile_name\u001b[0m\u001b[0;34m)\u001b[0m\u001b[0;34m\u001b[0m\u001b[0;34m\u001b[0m\u001b[0m\n\u001b[0m",
      "\u001b[0;31mTypeError\u001b[0m: plot_lomb_scargle() got an unexpected keyword argument 'dy'"
     ]
    }
   ],
   "source": [
    "%matplotlib notebook\n",
    "#plotting the LS Periodogram\n",
    "from funcs import plot_lomb_scargle\n",
    "\n",
    "file_name = star_name + \"_Lomb_Scargle.png\"\n",
    "plot_lomb_scargle(bjd, rv, rv_err/1000, save_dir= save_dir, save_filename=file_name)"
   ]
  },
  {
   "cell_type": "markdown",
   "id": "81e2db25",
   "metadata": {},
   "source": [
    "Comments: At 500 and 1150 peaks in LS. Some earlier as well. "
   ]
  },
  {
   "cell_type": "markdown",
   "id": "aec1f017",
   "metadata": {},
   "source": [
    "## Combine and Align Spectra"
   ]
  },
  {
   "cell_type": "markdown",
   "id": "3809cd8e",
   "metadata": {},
   "source": [
    "In this step, we will combine and align all available spectra in the same time frame while removing artifacts that we dont want to have in the combined spectra, like saturation or cosmic rays. We will use two methods to combine the spectra - RV - correction method and Cross-Correlation Method."
   ]
  },
  {
   "cell_type": "markdown",
   "id": "f124885c",
   "metadata": {},
   "source": [
    "### RV correction method"
   ]
  },
  {
   "cell_type": "markdown",
   "id": "4d9dbd42",
   "metadata": {},
   "source": [
    "The RV correction is performed using the measured RVs by Harps. The wavelengths are then corrected for RV shift due to different time frames and moved to the first obervation night."
   ]
  },
  {
   "cell_type": "code",
   "execution_count": null,
   "id": "90981269",
   "metadata": {},
   "outputs": [],
   "source": [
    "  \n",
    "import scipy.constants as c\n",
    "\n",
    "c_km = c.c/1000 \n",
    "    \n",
    "    \n",
    "%matplotlib notebook\n",
    "from funcs import plot_fluxes, plot_median_spectrum, interpolate_flux, get_wavelength_flux_RV, save_spectrum_as_text \n",
    "\n",
    "#get fit files\n",
    "filelist = fits_files\n",
    "\n",
    "#get observed wavelength, flux and eflux; extract RV and calculate corrected wavelength\n",
    "wave, flux, eflux, RV, BERV, wave_corr, combined_orders = get_wavelength_flux_RV(filelist, ceres = False)\n",
    "\n",
    "#get reference wavelength from first observation night \n",
    "wave_ref_corr = wave[0] / (1 + RV[0] / c_km) \n",
    "\n",
    "#interpolate flux at corrected wavelength and on the corrected wavelegnths reference\n",
    "flux_interp = interpolate_flux(wave, flux, wave_ref_corr, RV, BERV)\n",
    "\n",
    "#median flux for specific order\n",
    "flux_median = np.median(flux_interp, axis=0)\n",
    "\n",
    "#controll plots for specific order\n",
    "norder = 35 \n",
    "plot_fluxes(wave_corr, flux, norder) \n",
    "plot_median_spectrum(wave_ref_corr, flux_median+3000, norder)   \n",
    "\n",
    "#save the spectrum as txt file for ZASPE\n",
    "save_directory = \"Spectra/\" + star_name \n",
    "file_name = star_name + \"_RV_method.txt\"\n",
    "save_spectrum_as_text(combined_orders, wave_ref_corr, flux_median, save_directory, file_name)\n",
    "    "
   ]
  },
  {
   "cell_type": "markdown",
   "id": "158072dc",
   "metadata": {},
   "source": [
    "### Cross-correlation method"
   ]
  },
  {
   "cell_type": "markdown",
   "id": "c8c48898",
   "metadata": {},
   "source": [
    "The cross-correlation method takes the median flux from the RV method as star templat to correlate with. It then performes combines and alignes the spectra via cross correlation to the reference template. At the moment there are some issus with the cc method why using only RV method is recommended. In principle should the RV method result in the most accurate shift to the assigned reference spectrum."
   ]
  },
  {
   "cell_type": "code",
   "execution_count": null,
   "id": "32b0477a",
   "metadata": {},
   "outputs": [],
   "source": [
    "    \n",
    "from funcs import align_spectra\n",
    "from funcs import combine_spectra\n",
    "from astropy.io import fits \n",
    "import matplotlib.pyplot as plt\n",
    "\n",
    "num_orders = np.shape(fits.getdata(fits_files[0]))[1]\n",
    "\n",
    "#template is the RV corrected version\n",
    "template = flux_median \n",
    "\n",
    "#Specify the spectral order to combine\n",
    "combined_spectra = []\n",
    "for i in range(num_orders):\n",
    "    combined_spectrum = combine_spectra(fits_files, i, template, blaze_corrected=True)\n",
    "    combined_spectra.append(np.array(combined_spectrum))\n",
    "\n",
    "combined_spectra = np.array(combined_spectra)\n"
   ]
  },
  {
   "cell_type": "code",
   "execution_count": null,
   "id": "3a75f364",
   "metadata": {},
   "outputs": [],
   "source": [
    "\n",
    "\n",
    "%matplotlib notebook \n",
    "\n",
    "import matplotlib.pyplot as plt \n",
    "plt.xlabel(r\"Wavelength $[A]$\")\n",
    "plt.ylabel(r\"Flux\")\n",
    "for i in range(len(combined_spectra[:,1])):\n",
    "    plt.plot(combined_spectra[:,1][i], combined_spectra[:,2][i])\n",
    "\n"
   ]
  },
  {
   "cell_type": "code",
   "execution_count": null,
   "id": "deb17ee9",
   "metadata": {},
   "outputs": [],
   "source": [
    "\n",
    "    \n",
    "from funcs import store_spectrum_orders\n",
    "save_dir = \"Spectra/\" + star_name + \"/\"\n",
    "\n",
    "#Cross correlation method    \n",
    "file_name = star_name + \"_CCM\" + \".txt\"\n",
    "\n",
    "store_spectrum_orders(combined_spectra[:,1],combined_spectra[:,2], save_dir = save_dir, file_name = file_name )"
   ]
  }
 ],
 "metadata": {
  "kernelspec": {
   "display_name": "Python 3 (ipykernel)",
   "language": "python",
   "name": "python3"
  },
  "language_info": {
   "codemirror_mode": {
    "name": "ipython",
    "version": 3
   },
   "file_extension": ".py",
   "mimetype": "text/x-python",
   "name": "python",
   "nbconvert_exporter": "python",
   "pygments_lexer": "ipython3",
   "version": "3.9.13"
  }
 },
 "nbformat": 4,
 "nbformat_minor": 5
}
