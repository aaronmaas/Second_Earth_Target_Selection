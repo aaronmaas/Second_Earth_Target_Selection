{
 "cells": [
  {
   "cell_type": "markdown",
   "id": "518df52a",
   "metadata": {},
   "source": [
    "# Save Spectrum to txtfile such that we can run it with ZASPE"
   ]
  },
  {
   "cell_type": "code",
   "execution_count": 1,
   "id": "1a2d43de",
   "metadata": {},
   "outputs": [],
   "source": [
    "import numpy as np \n",
    "import matplotlib.pyplot as plt\n",
    "from astropy.io import fits \n",
    "import os "
   ]
  },
  {
   "cell_type": "code",
   "execution_count": 2,
   "id": "029710af",
   "metadata": {},
   "outputs": [],
   "source": [
    "def collect_fits_files(directory):\n",
    "    \n",
    "    \"\"\"Collects all fits files in a directory. \n",
    "    \n",
    "    Parameters:\n",
    "    directory (str): directory name\n",
    "    \n",
    "    Returns:\n",
    "    fits_files (list): list of fits files. \n",
    "    \n",
    "    \"\"\"\n",
    "    \n",
    "    fits_files = []\n",
    "    for filename in os.listdir(directory):\n",
    "        if filename.endswith('.fits'):\n",
    "            fits_files.append(os.path.join(directory, filename))\n",
    "    return fits_files"
   ]
  },
  {
   "cell_type": "code",
   "execution_count": 3,
   "id": "79e085dd",
   "metadata": {},
   "outputs": [],
   "source": [
    "fits_files = collect_fits_files('/home/aaron/Desktop/ZASPE/Spectra/')\n",
    "#print(fits_files)"
   ]
  },
  {
   "cell_type": "markdown",
   "id": "1fcb8cff",
   "metadata": {},
   "source": [
    "# Combines all orders in one file"
   ]
  },
  {
   "cell_type": "code",
   "execution_count": 4,
   "id": "19e4316d",
   "metadata": {},
   "outputs": [],
   "source": [
    "def store_spectrum_orders(array, save_dir=None, file_name=None):\n",
    "    num_orders = array.shape[1]  # Number of spectral orders\n",
    "\n",
    "    # Combine all orders into a single array\n",
    "    data = np.empty((0, 3))\n",
    "    for order_idx in range(num_orders):\n",
    "        # Get the wavelength and flux values for the current order\n",
    "        wavelength = array[0, order_idx]\n",
    "        flux = array[1, order_idx]\n",
    "\n",
    "        # Combine order index, wavelength, and flux into a single array\n",
    "        order_data = np.column_stack((np.full_like(wavelength, order_idx), wavelength, flux))\n",
    "\n",
    "        # Append order data to the main data array\n",
    "        data = np.concatenate((data, order_data), axis=0)\n",
    "\n",
    "    # Define the file path and name for all orders\n",
    "    file_path = os.path.join(save_dir, file_name)\n",
    "\n",
    "    # Create the directory if it does not exist\n",
    "    os.makedirs(os.path.dirname(file_path), exist_ok=True)\n",
    "\n",
    "    # Save the data to the text file\n",
    "    np.savetxt(file_path, data, delimiter=\"\\t\")\n",
    "\n",
    "    print(f\"The spectrum for all orders has been stored in the file: {file_path}\")\n"
   ]
  },
  {
   "cell_type": "code",
   "execution_count": 5,
   "id": "d20271aa",
   "metadata": {},
   "outputs": [],
   "source": [
    "from astropy.io import fits\n",
    "\n",
    "def extract_target_info_astropy(fits_file):\n",
    "    # Open the FITS file\n",
    "    with fits.open(fits_file) as hdul:\n",
    "        # Get the primary header\n",
    "        header = hdul[0].header\n",
    "        \n",
    "        #print(header)\n",
    "\n",
    "        # Extract the target name and observed night\n",
    "        target_name = header.get('OBJECT', 'Unknown')\n",
    "        observed_night = header.get('DATE-OBS', 'Unknown')\n",
    "        \n",
    "        if target_name == \"Unknwon\" or observed_night == \"Unknown\":\n",
    "            target_name, observed_night = extract_target_info(fits_file)\n",
    "            \n",
    "\n",
    "    return target_name, observed_night\n",
    "\n",
    "import os\n",
    "\n",
    "def extract_target_info(fits_file):\n",
    "    # Extract target name and observed night from file name\n",
    "    file_name = os.path.splitext(os.path.basename(fits_file))[0]\n",
    "    target_name, observed_night = file_name.split('_')\n",
    "\n",
    "    return target_name, observed_night\n"
   ]
  },
  {
   "cell_type": "code",
   "execution_count": 7,
   "id": "3ce36745",
   "metadata": {},
   "outputs": [
    {
     "name": "stdout",
     "output_type": "stream",
     "text": [
      "TIC Name: TIC170729775\n"
     ]
    }
   ],
   "source": [
    "from astroquery.simbad import Simbad\n",
    "\n",
    "def query_tic_name(target_name):\n",
    "    custom_simbad = Simbad()\n",
    "    custom_simbad.add_votable_fields(\"ids\")\n",
    "    \n",
    "    result_table = custom_simbad.query_object(target_name)\n",
    "    \n",
    "    if result_table is not None and len(result_table) > 0:\n",
    "        ids = result_table['IDS'][0].split(\"|\")\n",
    "        tic_name = next((id for id in ids if id.startswith(\"TIC \")), None)\n",
    "        if tic_name is not None:\n",
    "            tic_name = tic_name.split(\"TIC \")[1]\n",
    "        return 'TIC'+tic_name\n",
    "    \n",
    "    return \"Unknown\"\n",
    "\n",
    "\n",
    "# Example usage\n",
    "target_name = \"CD-341735\"\n",
    "\n",
    "tic_name = query_tic_name(target_name)\n",
    "print(\"TIC Name:\", tic_name)"
   ]
  },
  {
   "cell_type": "code",
   "execution_count": 8,
   "id": "0036a52b",
   "metadata": {},
   "outputs": [
    {
     "name": "stdout",
     "output_type": "stream",
     "text": [
      "The spectrum for all orders has been stored in the file: TIC170729775/TIC1707297752021-10-16T05:27:18.750sp.txt\n",
      "The spectrum for all orders has been stored in the file: TIC170729775/TIC1707297752022-02-07T01:37:57.068sp.txt\n",
      "The spectrum for all orders has been stored in the file: TIC170729775/TIC1707297752022-04-16T23:16:55.427sp.txt\n",
      "The spectrum for all orders has been stored in the file: TIC170729775/TIC1707297752022-03-23T00:40:22.986sp.txt\n",
      "The spectrum for all orders has been stored in the file: TIC170729775/TIC1707297752021-09-15T06:36:50.564sp.txt\n",
      "The spectrum for all orders has been stored in the file: TIC170729775/TIC1707297752022-03-16T01:28:05.755sp.txt\n",
      "The spectrum for all orders has been stored in the file: TIC170729775/TIC1707297752021-10-18T05:27:09.210sp.txt\n",
      "The spectrum for all orders has been stored in the file: TIC170729775/TIC1707297752021-10-12T05:46:49.850sp.txt\n",
      "The spectrum for all orders has been stored in the file: TIC170729775/TIC1707297752022-02-03T02:32:44.814sp.txt\n",
      "The spectrum for all orders has been stored in the file: TIC170729775/TIC1707297752022-12-28T06:55:32.989sp.txt\n",
      "The spectrum for all orders has been stored in the file: TIC170729775/TIC1707297752022-01-24T04:19:21.711sp.txt\n",
      "The spectrum for all orders has been stored in the file: TIC170729775/TIC1707297752022-04-04T00:29:19.853sp.txt\n",
      "The spectrum for all orders has been stored in the file: TIC170729775/TIC1707297752021-11-02T06:20:00.076sp.txt\n",
      "The spectrum for all orders has been stored in the file: TIC170729775/TIC1707297752022-01-02T06:15:00.795sp.txt\n",
      "The spectrum for all orders has been stored in the file: TIC170729775/TIC1707297752022-11-01T03:08:54.234sp.txt\n",
      "The spectrum for all orders has been stored in the file: TIC170729775/TIC1707297752022-02-15T03:32:15.396sp.txt\n",
      "The spectrum for all orders has been stored in the file: TIC170729775/TIC1707297752021-03-14T00:09:36.136sp.txt\n",
      "The spectrum for all orders has been stored in the file: TIC170729775/TIC1707297752021-12-28T03:51:49.184sp.txt\n",
      "The spectrum for all orders has been stored in the file: TIC170729775/TIC1707297752022-01-12T05:51:00.380sp.txt\n",
      "The spectrum for all orders has been stored in the file: TIC170729775/TIC1707297752021-11-22T05:39:12.058sp.txt\n",
      "The spectrum for all orders has been stored in the file: TIC170729775/TIC1707297752022-01-22T03:01:27.515sp.txt\n",
      "The spectrum for all orders has been stored in the file: TIC170729775/TIC1707297752022-03-12T00:36:54.090sp.txt\n",
      "The spectrum for all orders has been stored in the file: TIC170729775/TIC1707297752022-03-03T01:11:00.428sp.txt\n",
      "The spectrum for all orders has been stored in the file: TIC170729775/TIC1707297752021-11-11T04:34:10.451sp.txt\n",
      "The spectrum for all orders has been stored in the file: TIC170729775/TIC1707297752022-01-04T05:09:02.274sp.txt\n",
      "The spectrum for all orders has been stored in the file: TIC170729775/TIC1707297752022-10-09T05:04:10.205sp.txt\n",
      "The spectrum for all orders has been stored in the file: TIC170729775/TIC1707297752021-11-23T05:27:06.652sp.txt\n",
      "The spectrum for all orders has been stored in the file: TIC170729775/TIC1707297752021-12-31T06:13:07.758sp.txt\n",
      "The spectrum for all orders has been stored in the file: TIC170729775/TIC1707297752021-10-13T07:44:51.032sp.txt\n",
      "The spectrum for all orders has been stored in the file: TIC170729775/TIC1707297752023-01-01T04:04:33.052sp.txt\n",
      "The spectrum for all orders has been stored in the file: TIC170729775/TIC1707297752022-03-31T00:40:30.675sp.txt\n",
      "The spectrum for all orders has been stored in the file: TIC170729775/TIC1707297752022-01-28T04:12:13.031sp.txt\n",
      "The spectrum for all orders has been stored in the file: TIC170729775/TIC1707297752021-10-04T06:16:44.605sp.txt\n",
      "The spectrum for all orders has been stored in the file: TIC170729775/TIC1707297752022-02-13T02:27:47.300sp.txt\n",
      "The spectrum for all orders has been stored in the file: TIC170729775/TIC1707297752022-12-20T05:29:49.380sp.txt\n",
      "The spectrum for all orders has been stored in the file: TIC170729775/TIC1707297752023-03-14T01:38:18.202sp.txt\n",
      "The spectrum for all orders has been stored in the file: TIC170729775/TIC1707297752022-10-17T04:55:29.504sp.txt\n",
      "The spectrum for all orders has been stored in the file: TIC170729775/TIC1707297752022-01-06T03:26:30.954sp.txt\n",
      "The spectrum for all orders has been stored in the file: TIC170729775/TIC1707297752023-03-30T00:59:42.642sp.txt\n",
      "The spectrum for all orders has been stored in the file: TIC170729775/TIC1707297752021-11-17T06:08:34.580sp.txt\n",
      "The spectrum for all orders has been stored in the file: TIC170729775/TIC1707297752021-10-31T05:34:22.200sp.txt\n",
      "The spectrum for all orders has been stored in the file: TIC170729775/TIC1707297752022-01-26T04:49:08.672sp.txt\n",
      "The spectrum for all orders has been stored in the file: TIC170729775/TIC1707297752021-12-16T06:40:38.260sp.txt\n",
      "The spectrum for all orders has been stored in the file: TIC170729775/TIC1707297752022-02-05T02:12:17.099sp.txt\n",
      "The spectrum for all orders has been stored in the file: TIC170729775/TIC1707297752021-03-22T00:13:45.248sp.txt\n",
      "The spectrum for all orders has been stored in the file: TIC170729775/TIC1707297752022-02-28T02:02:04.271sp.txt\n",
      "The spectrum for all orders has been stored in the file: TIC170729775/TIC1707297752021-11-13T04:23:27.711sp.txt\n",
      "The spectrum for all orders has been stored in the file: TIC170729775/TIC1707297752022-02-11T03:34:29.353sp.txt\n",
      "The spectrum for all orders has been stored in the file: TIC170729775/TIC1707297752022-01-09T05:43:39.575sp.txt\n"
     ]
    }
   ],
   "source": [
    "for i in range(len(fits_files)): \n",
    "    spectrum = fits.getdata(fits_files[i])\n",
    "    #flux = spectrum[1,:]\n",
    "    #wavelength = spectrum[0,:]\n",
    "    \n",
    "    target_name, observed_night = extract_target_info(fits_files[i])\n",
    "   \n",
    "    if target_name.startswith(\"TIC\") == False:\n",
    "        target_name = query_tic_name(target_name)\n",
    "   \n",
    "    save_dir = target_name\n",
    "    \n",
    "    file_name = target_name + observed_night + \".txt\"\n",
    "    store_spectrum_orders(spectrum, save_dir = save_dir, file_name =file_name )\n",
    "    \n",
    "    "
   ]
  },
  {
   "cell_type": "code",
   "execution_count": 9,
   "id": "46013ba9",
   "metadata": {},
   "outputs": [],
   "source": [
    "# Like this I can run each individual night in ZASPE; for running the combined data I would need to combine the \n",
    "# spectra first with combine and aling and then store it into a one file. "
   ]
  },
  {
   "cell_type": "code",
   "execution_count": null,
   "id": "25b98bce",
   "metadata": {},
   "outputs": [],
   "source": []
  }
 ],
 "metadata": {
  "kernelspec": {
   "display_name": "Python 3 (ipykernel)",
   "language": "python",
   "name": "python3"
  },
  "language_info": {
   "codemirror_mode": {
    "name": "ipython",
    "version": 3
   },
   "file_extension": ".py",
   "mimetype": "text/x-python",
   "name": "python",
   "nbconvert_exporter": "python",
   "pygments_lexer": "ipython3",
   "version": "3.9.13"
  }
 },
 "nbformat": 4,
 "nbformat_minor": 5
}
